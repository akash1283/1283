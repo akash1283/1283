{
  "nbformat": 4,
  "nbformat_minor": 0,
  "metadata": {
    "colab": {
      "provenance": [],
      "authorship_tag": "ABX9TyN7gsvUtXmfLqN/7o1rg7z+",
      "include_colab_link": true
    },
    "kernelspec": {
      "name": "python3",
      "display_name": "Python 3"
    },
    "language_info": {
      "name": "python"
    }
  },
  "cells": [
    {
      "cell_type": "markdown",
      "metadata": {
        "id": "view-in-github",
        "colab_type": "text"
      },
      "source": [
        "<a href=\"https://colab.research.google.com/github/akash1283/1283/blob/main/Untitled8.ipynb\" target=\"_parent\"><img src=\"https://colab.research.google.com/assets/colab-badge.svg\" alt=\"Open In Colab\"/></a>"
      ]
    },
    {
      "cell_type": "code",
      "execution_count": null,
      "metadata": {
        "id": "PTko_mpZA3Sk"
      },
      "outputs": [],
      "source": [
        "def temperature_modeling(a,b,c,time):\n",
        "  temperature = a*time**2 +b*time + c\n",
        "  return temperature"
      ]
    },
    {
      "cell_type": "code",
      "source": [
        "# Hardcoded variables\n",
        "a,b,c = 0.1,2,10\n",
        "\n",
        "time = 5\n"
      ],
      "metadata": {
        "id": "Rb60jVxeDz6X"
      },
      "execution_count": null,
      "outputs": []
    },
    {
      "cell_type": "code",
      "source": [
        "print(\"Hard-coded variables for weather modeling\")\n",
        "\n",
        "print(\"Temperature for hardcoded coefficients at time\", time, \"hours:\", Temperature_modeling(a,b,c,time))"
      ],
      "metadata": {
        "colab": {
          "base_uri": "https://localhost:8080/"
        },
        "id": "-lbJjVRiEZaf",
        "outputId": "969864ea-436a-41fb-ecda-a38ee6c4fa7f"
      },
      "execution_count": null,
      "outputs": [
        {
          "output_type": "stream",
          "name": "stdout",
          "text": [
            "Hard-coded variables for weather modeling\n",
            "Temperature for hardcoded coefficients at time 5 hours: 22.5\n"
          ]
        }
      ]
    },
    {
      "cell_type": "code",
      "source": [
        "a=float(input(\"Enter coefficient a:\"))\n",
        "b=float(input(\"Enter coefficient b:\"))\n",
        "c=float(input(\"Enter coefficient c:\"))"
      ],
      "metadata": {
        "colab": {
          "base_uri": "https://localhost:8080/"
        },
        "id": "Lr9mNHvDEgkF",
        "outputId": "e8a6a5aa-ff43-4c28-e39d-4c460d8dcd4b"
      },
      "execution_count": null,
      "outputs": [
        {
          "name": "stdout",
          "output_type": "stream",
          "text": [
            "Enter coefficient a:0.1\n",
            "Enter coefficient b:3\n",
            "Enter coefficient c:10\n"
          ]
        }
      ]
    },
    {
      "cell_type": "code",
      "source": [
        "time = float(input(\"Enter time in hours:\"))"
      ],
      "metadata": {
        "colab": {
          "base_uri": "https://localhost:8080/"
        },
        "id": "1YeI82RtFCxt",
        "outputId": "a8356c8f-8111-4a79-f188-1d58a803f72e"
      },
      "execution_count": null,
      "outputs": [
        {
          "name": "stdout",
          "output_type": "stream",
          "text": [
            "Enter time in hours:4\n"
          ]
        }
      ]
    },
    {
      "cell_type": "code",
      "source": [
        "#variables read from keyboard\n",
        "print(\"hard-coded variables for weather modeling\")\n",
        "print(\"Temperature form keyboard coefficients at time\", time, \"hours:\", Temperature_modeling(a,b,c,time))"
      ],
      "metadata": {
        "colab": {
          "base_uri": "https://localhost:8080/"
        },
        "id": "kqIoCcZaFLS9",
        "outputId": "bd717db0-c3a7-42ae-ed30-bf96ad2c7438"
      },
      "execution_count": null,
      "outputs": [
        {
          "output_type": "stream",
          "name": "stdout",
          "text": [
            "hard-coded variables for weather modeling\n",
            "Temperature form keyboard coefficients at time 4.0 hours: 23.6\n"
          ]
        }
      ]
    },
    {
      "cell_type": "code",
      "source": [
        "# Read coefficients from a file\n",
        "def read_from_file(filename):\n",
        "  with open(filename, \"r\") as file:\n",
        "    lines = file.readlines()\n",
        "  coefficients = [tuple(map(float,line.strip().split(','))) for line in lines]\n",
        "  return coefficients"
      ],
      "metadata": {
        "id": "CAZ1FXgMFlvm"
      },
      "execution_count": null,
      "outputs": []
    },
    {
      "cell_type": "code",
      "source": [
        "#Example: solve for a single set of inputs\n",
        "coefficients = read_from_file('/content/untitled.txt')\n",
        "a,b,c,time = coefficients[0] #first set of coefficients\n",
        "temperature = Temperature_modeling(a,b,c,time)\n",
        "print(\"read from a file for for weather modeling\")\n",
        "print(\"Temperature form keyboard coefficients at time \", time, \"hours:\", temperature_modeling(a,b,c,time))"
      ],
      "metadata": {
        "colab": {
          "base_uri": "https://localhost:8080/"
        },
        "id": "iP2znAK1G5sF",
        "outputId": "b1e08770-d4ce-417d-e86d-6c27531032a1"
      },
      "execution_count": null,
      "outputs": [
        {
          "output_type": "stream",
          "name": "stdout",
          "text": [
            "read from a file for for weather modeling\n",
            "Temperature form keyboard coefficients at time  9.0 hours: 53.0\n"
          ]
        }
      ]
    },
    {
      "cell_type": "code",
      "source": [
        "# solve for all sets in the file\n",
        "for idx, (a,b,c,time) in enumerate(coefficients):\n",
        "  temperature = Temperature_modeling(a,b,c,time)\n",
        "print(\"Temperature form keyboard coefficients at time \", time, \"hours:\", temperature_modeling(a,b,c,time))"
      ],
      "metadata": {
        "colab": {
          "base_uri": "https://localhost:8080/"
        },
        "id": "2wlNQB-DIljv",
        "outputId": "f6663a93-a014-47b0-ae7a-6b9671e25778"
      },
      "execution_count": null,
      "outputs": [
        {
          "output_type": "stream",
          "name": "stdout",
          "text": [
            "Temperature form keyboard coefficients at time  7.0 hours: 114.0\n"
          ]
        }
      ]
    },
    {
      "cell_type": "markdown",
      "source": [],
      "metadata": {
        "id": "O9XI9J6aIIal"
      }
    }
  ]
}